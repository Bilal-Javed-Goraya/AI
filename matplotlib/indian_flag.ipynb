{
 "cells": [
  {
   "cell_type": "markdown",
   "id": "b9bc4b61-b2ad-4c47-9e68-969317b8f07b",
   "metadata": {},
   "source": [
    "### ❇️ Happy `Republic Day` 🇮🇳 🫡  "
   ]
  },
  {
   "cell_type": "code",
   "execution_count": 1,
   "id": "5ba2450d-79da-434c-afc0-df92e42e28bb",
   "metadata": {},
   "outputs": [
    {
     "data": {
      "image/png": "[encoded data removed]",
      "text/plain": [
       "<Figure size 432x288 with 1 Axes>"
      ]
     },
     "metadata": {
      "needs_background": "light"
     },
     "output_type": "display_data"
    },
    {
     "data": {
      "text/plain": [
       "((-0.45, 9.45, 0.7, 7.3), (-0.45, 9.45, 0.7, 7.3), None)"
      ]
     },
     "execution_count": 1,
     "metadata": {},
     "output_type": "execute_result"
    }
   ],
   "source": [
    "import numpy as np\n",
    "import matplotlib.pyplot as plt\n",
    "import matplotlib.patches as patch\n",
    "\n",
    "height, width = 6, 9 # Height to width ratio of the flag must be 2:3\n",
    "\n",
    "# Plotting the tri colours in national flag\n",
    "green = patch.Rectangle((0, 1), width=width, height=height/3, facecolor=\"green\", edgecolor=\"grey\")\n",
    "white = patch.Rectangle((0, 3), width=width, height=height/3, facecolor=\"white\", edgecolor=\"grey\")\n",
    "saffron = patch.Rectangle((0, 5), width=width, height=height/3, facecolor=\"#FF8844\", edgecolor=\"grey\")\n",
    "\n",
    "fig, axes = plt.subplots()\n",
    "axes.add_patch(green)\n",
    "axes.add_patch(white)\n",
    "axes.add_patch(saffron)\n",
    "\n",
    "# Ashok Chakra\n",
    "radius = 0.8\n",
    "plt.plot(4.5, 4, marker=\"o\", markerfacecolor=\"#000088ff\", markersize=9.5)\n",
    "chakra = plt.Circle((4.5, 4), radius, color=\"#000088ff\", fill=False, linewidth=7)\n",
    "axes.add_artist(chakra)\n",
    "# 24 spokes in AshokChakra\n",
    "for i in range(0, 24):\n",
    "    p = 4.5 + radius / 2 * np.cos(np.pi * i / 12 + np.pi / 48)\n",
    "    q = 4.5 + radius / 2 * np.cos(np.pi * i / 12 - np.pi / 48)\n",
    "    r = 4 + radius / 2 * np.sin(np.pi * i / 12 + np.pi / 48)\n",
    "    s = 4 + radius / 2 * np.sin(np.pi * i / 12 - np.pi / 48)\n",
    "    t = 4.5 + radius * np.cos(np.pi * i / 12)\n",
    "    u = 4 + radius * np.sin(np.pi * i / 12)\n",
    "    axes.add_patch(\n",
    "        patch.Polygon(\n",
    "            [[4.5, 4], [p, r], [t, u], [q, s]], fill=True, closed=True, color=\"#000088ff\"\n",
    "        )\n",
    "    )\n",
    "plt.axis(\"equal\"), plt.axis('off'), plt.show()"
   ]
  },
  {
   "cell_type": "markdown",
   "id": "f56b520f-b0b4-430c-a625-9e3d19a21aa6",
   "metadata": {},
   "source": [
    "##### ❇️ Hope you enjoyed reading!! 📖 \n",
    "##### ❇️ follow → @akshay_pachaar  "
   ]
  },
  {
   "cell_type": "code",
   "execution_count": null,
   "id": "887e9212-6a95-47ee-8af0-66c64781bef3",
   "metadata": {},
   "outputs": [],
   "source": []
  }
 ],
 "metadata": {
  "kernelspec": {
   "display_name": "env_twitter",
   "language": "python",
   "name": "env_twitter"
  },
  "language_info": {
   "codemirror_mode": {
    "name": "ipython",
    "version": 3
   },
   "file_extension": ".py",
   "mimetype": "text/x-python",
   "name": "python",
   "nbconvert_exporter": "python",
   "pygments_lexer": "ipython3",
   "version": "3.10.5"
  }
 },
 "nbformat": 4,
 "nbformat_minor": 5
}
